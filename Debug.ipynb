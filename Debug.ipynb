{
 "cells": [
  {
   "cell_type": "code",
   "execution_count": 1,
   "metadata": {},
   "outputs": [],
   "source": [
    "import numpy as np\n",
    "import math\n",
    "import random\n",
    "from sklearn.preprocessing import normalize\n",
    "\n",
    "def get_weights():\n",
    "    return [np.random.randn(2,4)][0]"
   ]
  },
  {
   "cell_type": "code",
   "execution_count": 2,
   "metadata": {},
   "outputs": [],
   "source": [
    "def mix_weights(weights_1, weights_2):\n",
    "    mixed = []\n",
    "    for i in range(len(weights_1)):\n",
    "        temp = normalize( np.dot( weights_1[i].reshape(-1, 1), weights_2[i].reshape(1, -1) ) )\n",
    "        mixed.append( np.random.choice( temp[0] , 4).tolist() )\n",
    "    return mixed"
   ]
  },
  {
   "cell_type": "code",
   "execution_count": 3,
   "metadata": {},
   "outputs": [],
   "source": [
    "def multiply_weights(weights_1, weights_2):\n",
    "    multiplied = []\n",
    "    for i in range(len(weights_1)):\n",
    "        temp = normalize( weights_1[i].reshape(-1, 1) * weights_2[i].reshape(1, -1) )\n",
    "        multiplied.append( np.random.choice( temp[0] , 4).tolist() )\n",
    "    return multiplied"
   ]
  },
  {
   "cell_type": "code",
   "execution_count": 4,
   "metadata": {},
   "outputs": [],
   "source": [
    "def select_weights(weights_1, weights_2):\n",
    "    select = []\n",
    "    weight_pool = []\n",
    "    for i in range(len(weights_1)):\n",
    "        for j in range(len(weights_1[i])):\n",
    "            weight_pool.append(weights_1[i][j])\n",
    "            weight_pool.append(weights_2[i][j])\n",
    "    random.shuffle(weight_pool)\n",
    "    for i in range(len(weights_1)):\n",
    "        select.append(np.random.choice( weight_pool , 4).tolist())\n",
    "    return select"
   ]
  },
  {
   "cell_type": "code",
   "execution_count": null,
   "metadata": {},
   "outputs": [],
   "source": [
    "\n"
   ]
  },
  {
   "cell_type": "code",
   "execution_count": 5,
   "metadata": {},
   "outputs": [
    {
     "name": "stdout",
     "output_type": "stream",
     "text": [
      "0.4428768739894695\n",
      "0.8729132363718455\n",
      "0.09134885330439069\n",
      "-0.16256615843170352\n",
      "-0.07558639799918598\n",
      "0.16717934408948865\n",
      "0.4091448351907585\n",
      "0.8988773985481098\n",
      "0.7094514602259907\n",
      "0.8217223930561661\n",
      "-0.5880596662625592\n",
      "0.20285780536134523\n",
      "0.11021715544023425\n",
      "-0.6317733225049436\n",
      "-0.3510545666470357\n",
      "-0.5801749255747786\n",
      "-0.4000385523166481\n",
      "0.2123700692664856\n",
      "-0.3001872503496186\n",
      "0.9049135838004645\n",
      "0.4772443618353637\n",
      "0.18498346245436248\n",
      "0.21924377078991553\n",
      "-0.8991909509702702\n",
      "0.6230423501647939\n",
      "-0.2123305660130579\n",
      "0.5774865901093045\n",
      "0.28243586901851714\n",
      "-0.8315212815874997\n",
      "-0.44526908932232145\n",
      "-0.5807171273412302\n",
      "-0.7489289461224486\n",
      "-0.7088852973022011\n",
      "0.10488990449911761\n",
      "0.6275906643115217\n",
      "0.6711907678857598\n",
      "0.14061528382418675\n",
      "0.063218528157861\n",
      "0.6639279001160199\n",
      "-0.7733560897967724\n",
      "-0.9090906191642751\n",
      "-0.4823098403312305\n",
      "-0.807246462538312\n",
      "0.8706524814045895\n",
      "-0.8354904153434146\n",
      "0.04842762219325625\n",
      "-0.4730183645652326\n",
      "-0.8635112352855665\n",
      "0.8293636341597346\n",
      "0.9381106995719288\n",
      "0.7194409219159896\n",
      "0.7209086592716052\n",
      "0.9452638796657695\n",
      "0.2623513814649956\n",
      "0.8268957501860934\n",
      "-0.6840198919760909\n",
      "0.49197801449088385\n",
      "0.4920235179030037\n",
      "-0.42718601338026896\n",
      "-0.2713487432004955\n",
      "0.9442581029081196\n",
      "-0.5253453085494868\n",
      "0.8313880143689196\n",
      "-0.6808856153192284\n",
      "0.6391298149717253\n",
      "-0.2624412002818375\n",
      "-0.31540350640161186\n",
      "0.5920659452041603\n",
      "-0.05164379929693097\n",
      "-0.018039925204739626\n",
      "-0.5197746950482236\n",
      "-0.5728667621267287\n",
      "-0.1492969962674151\n",
      "-0.325421218051551\n",
      "-0.04736636755817192\n",
      "0.887374026949785\n",
      "0.03508944574118256\n",
      "-0.1612754907070546\n",
      "-0.5828869485777657\n",
      "0.4584923543568533\n",
      "0.2567033916866388\n",
      "0.040632695393223894\n",
      "-0.094029970515209\n",
      "-0.36452115058309187\n",
      "0.426479047917534\n",
      "-0.39649557318561657\n",
      "-0.8421012194508755\n",
      "-0.6195658446724348\n",
      "-0.15547795557201405\n",
      "0.03361911992412181\n",
      "-0.9201501130504648\n",
      "0.25620614276389997\n",
      "0.36795202725886345\n",
      "0.31848196828247577\n",
      "0.5917180445466574\n",
      "-0.7622487867875753\n",
      "-0.4184357498464728\n",
      "-0.21848913649139745\n",
      "0.14459606397622404\n",
      "-0.08517211359131194\n"
     ]
    }
   ],
   "source": [
    "def breed(father, mother, orig):\n",
    "    #print(mix_weights(father,mother))\n",
    "    \n",
    "    for i in range(100):\n",
    "        print(random.uniform(-1, 1))\n",
    "    \n",
    "breed(get_weights(),get_weights(),get_weights())"
   ]
  },
  {
   "cell_type": "code",
   "execution_count": null,
   "metadata": {},
   "outputs": [],
   "source": []
  }
 ],
 "metadata": {
  "kernelspec": {
   "display_name": "Python 3",
   "language": "python",
   "name": "python3"
  },
  "language_info": {
   "codemirror_mode": {
    "name": "ipython",
    "version": 3
   },
   "file_extension": ".py",
   "mimetype": "text/x-python",
   "name": "python",
   "nbconvert_exporter": "python",
   "pygments_lexer": "ipython3",
   "version": "3.7.3"
  }
 },
 "nbformat": 4,
 "nbformat_minor": 2
}
