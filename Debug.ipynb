{
 "cells": [
  {
   "cell_type": "code",
   "execution_count": 1,
   "metadata": {},
   "outputs": [
    {
     "name": "stderr",
     "output_type": "stream",
     "text": [
      "Using TensorFlow backend.\n"
     ]
    }
   ],
   "source": [
    "import numpy as np\n",
    "import math\n",
    "import random\n",
    "from sklearn.preprocessing import normalize\n",
    "from keras.layers import Dense, Concatenate,concatenate,LeakyReLU, Softmax\n",
    "from keras.models import Sequential, Model\n",
    "from keras.optimizers import Adam\n",
    "import itertools\n",
    "neurons = 4\n",
    "input_size = 2\n",
    "output_size = 1\n",
    "learning_rate = 0.098\n",
    "def get_weights():\n",
    "    return [np.random.randn(2,4)][0]"
   ]
  },
  {
   "cell_type": "code",
   "execution_count": 2,
   "metadata": {},
   "outputs": [],
   "source": [
    "def mix_weights(weights_1, weights_2):\n",
    "    mixed = []\n",
    "    for i in range(len(weights_1)):\n",
    "        temp = normalize( np.dot( weights_1[i].reshape(-1, 1), weights_2[i].reshape(1, -1) ) )\n",
    "        mixed.append( np.random.choice( temp[0] , 4).tolist() )\n",
    "    return mixed"
   ]
  },
  {
   "cell_type": "code",
   "execution_count": 3,
   "metadata": {},
   "outputs": [],
   "source": [
    "def dot_weights(weights_1, weights_2):\n",
    "    return np.reshape(normalize(np.dot( np.array(weights_1).reshape(-1, 1),np.array(weights_2).reshape(1, -1) ) )[0], weights_1.shape )"
   ]
  },
  {
   "cell_type": "code",
   "execution_count": 4,
   "metadata": {},
   "outputs": [],
   "source": [
    "def multiply_weights(weights_1, weights_2):\n",
    "    multiplied = []\n",
    "    for i in range(len(weights_1)):\n",
    "        temp = normalize( weights_1[i].reshape(-1, 1) * weights_2[i].reshape(1, -1) )\n",
    "        multiplied.append( np.random.choice( temp[0] , 4).tolist() )\n",
    "    return multiplied"
   ]
  },
  {
   "cell_type": "code",
   "execution_count": 5,
   "metadata": {},
   "outputs": [],
   "source": [
    "def ordered_select_weights(weights_1, weights_2):\n",
    "    select = []\n",
    "    N = 0\n",
    "    for i in range(len(weights_1)):\n",
    "        N = len(weights_1[i])\n",
    "        from_which_list = np.random.randint(2, size=N).astype(np.bool)\n",
    "        select.append(np.choose(from_which_list, [weights_1[i], weights_2[i]]))\n",
    "\n",
    "    return select"
   ]
  },
  {
   "cell_type": "code",
   "execution_count": 6,
   "metadata": {},
   "outputs": [
    {
     "name": "stdout",
     "output_type": "stream",
     "text": [
      "WARNING:tensorflow:From /home/jjgaardbo/.local/lib/python3.7/site-packages/tensorflow/python/framework/op_def_library.py:263: colocate_with (from tensorflow.python.framework.ops) is deprecated and will be removed in a future version.\n",
      "Instructions for updating:\n",
      "Colocations handled automatically by placer.\n",
      "[-0.2580316  -0.7717767   0.762609    0.15267467]\n",
      "[-0.239151    0.87617207  0.35996866 -0.16904688]\n",
      "[ 0.6209352   0.6732843   0.11689258 -0.31265402]\n",
      "[-0.8915887  -0.9437809  -0.62613535  0.785527  ]\n",
      "[array([-0.239151  ,  0.87617207,  0.762609  ,  0.15267467], dtype=float32), array([ 0.6209352 , -0.9437809 , -0.62613535, -0.31265402], dtype=float32)]\n"
     ]
    }
   ],
   "source": [
    "test_model = Sequential()    \n",
    "test_model.add(Dense(input_size, input_dim=input_size, activation='relu'))\n",
    "test_model.add(Dense(neurons, activation='relu'))\n",
    "test_model.add(Dense(output_size))\n",
    "test_model.compile(loss='mse', optimizer=Adam(lr=learning_rate), metrics=[\"accuracy\"])\n",
    "\n",
    "test_model_2 = Sequential()    \n",
    "test_model_2.add(Dense(input_size, input_dim=input_size, activation='relu'))\n",
    "test_model_2.add(Dense(neurons, activation='relu'))\n",
    "test_model_2.add(Dense(output_size))\n",
    "test_model_2.compile(loss='mse', optimizer=Adam(lr=learning_rate), metrics=[\"accuracy\"])\n",
    "\n",
    "print(select_weights(test_model.layers[1].get_weights()[0], test_model_2.layers[1].get_weights()[0]))"
   ]
  },
  {
   "cell_type": "code",
   "execution_count": 7,
   "metadata": {},
   "outputs": [
    {
     "ename": "NameError",
     "evalue": "name 'layer_0' is not defined",
     "output_type": "error",
     "traceback": [
      "\u001b[0;31m---------------------------------------------------------------------------\u001b[0m",
      "\u001b[0;31mNameError\u001b[0m                                 Traceback (most recent call last)",
      "\u001b[0;32m<ipython-input-7-2409a39018d0>\u001b[0m in \u001b[0;36m<module>\u001b[0;34m\u001b[0m\n\u001b[1;32m      1\u001b[0m \u001b[0mmodel\u001b[0m \u001b[0;34m=\u001b[0m \u001b[0mSequential\u001b[0m\u001b[0;34m(\u001b[0m\u001b[0;34m)\u001b[0m\u001b[0;34m\u001b[0m\u001b[0;34m\u001b[0m\u001b[0m\n\u001b[0;32m----> 2\u001b[0;31m \u001b[0mmodel\u001b[0m\u001b[0;34m.\u001b[0m\u001b[0madd\u001b[0m\u001b[0;34m(\u001b[0m\u001b[0mDense\u001b[0m\u001b[0;34m(\u001b[0m\u001b[0minput_size\u001b[0m\u001b[0;34m,\u001b[0m \u001b[0minput_dim\u001b[0m\u001b[0;34m=\u001b[0m\u001b[0minput_size\u001b[0m\u001b[0;34m,\u001b[0m\u001b[0mweights\u001b[0m\u001b[0;34m=\u001b[0m\u001b[0;34m[\u001b[0m\u001b[0mnp\u001b[0m\u001b[0;34m.\u001b[0m\u001b[0marray\u001b[0m\u001b[0;34m(\u001b[0m\u001b[0mlayer_0\u001b[0m\u001b[0;34m)\u001b[0m\u001b[0;34m,\u001b[0m\u001b[0mnp\u001b[0m\u001b[0;34m.\u001b[0m\u001b[0mzeros\u001b[0m\u001b[0;34m(\u001b[0m\u001b[0minput_size\u001b[0m\u001b[0;34m)\u001b[0m\u001b[0;34m]\u001b[0m\u001b[0;34m,\u001b[0m \u001b[0mactivation\u001b[0m\u001b[0;34m=\u001b[0m\u001b[0;34m'relu'\u001b[0m\u001b[0;34m)\u001b[0m\u001b[0;34m)\u001b[0m\u001b[0;34m\u001b[0m\u001b[0;34m\u001b[0m\u001b[0m\n\u001b[0m\u001b[1;32m      3\u001b[0m \u001b[0mmodel\u001b[0m\u001b[0;34m.\u001b[0m\u001b[0madd\u001b[0m\u001b[0;34m(\u001b[0m\u001b[0mDense\u001b[0m\u001b[0;34m(\u001b[0m\u001b[0mneurons\u001b[0m\u001b[0;34m,\u001b[0m \u001b[0mweights\u001b[0m\u001b[0;34m=\u001b[0m\u001b[0;34m[\u001b[0m\u001b[0mnp\u001b[0m\u001b[0;34m.\u001b[0m\u001b[0marray\u001b[0m\u001b[0;34m(\u001b[0m\u001b[0mlayer_1\u001b[0m\u001b[0;34m)\u001b[0m\u001b[0;34m,\u001b[0m\u001b[0mnp\u001b[0m\u001b[0;34m.\u001b[0m\u001b[0mzeros\u001b[0m\u001b[0;34m(\u001b[0m\u001b[0mneurons\u001b[0m\u001b[0;34m)\u001b[0m\u001b[0;34m]\u001b[0m\u001b[0;34m,\u001b[0m \u001b[0mactivation\u001b[0m\u001b[0;34m=\u001b[0m\u001b[0;34m'relu'\u001b[0m\u001b[0;34m)\u001b[0m\u001b[0;34m)\u001b[0m\u001b[0;34m\u001b[0m\u001b[0;34m\u001b[0m\u001b[0m\n\u001b[1;32m      4\u001b[0m \u001b[0mmodel\u001b[0m\u001b[0;34m.\u001b[0m\u001b[0madd\u001b[0m\u001b[0;34m(\u001b[0m\u001b[0mDense\u001b[0m\u001b[0;34m(\u001b[0m\u001b[0moutput_size\u001b[0m \u001b[0;34m,\u001b[0m\u001b[0mweights\u001b[0m\u001b[0;34m=\u001b[0m\u001b[0;34m[\u001b[0m\u001b[0mnp\u001b[0m\u001b[0;34m.\u001b[0m\u001b[0marray\u001b[0m\u001b[0;34m(\u001b[0m\u001b[0mlayer_2\u001b[0m\u001b[0;34m)\u001b[0m\u001b[0;34m,\u001b[0m\u001b[0mnp\u001b[0m\u001b[0;34m.\u001b[0m\u001b[0mzeros\u001b[0m\u001b[0;34m(\u001b[0m\u001b[0moutput_size\u001b[0m\u001b[0;34m)\u001b[0m\u001b[0;34m]\u001b[0m\u001b[0;34m)\u001b[0m\u001b[0;34m)\u001b[0m\u001b[0;34m\u001b[0m\u001b[0;34m\u001b[0m\u001b[0m\n\u001b[1;32m      5\u001b[0m \u001b[0mmodel\u001b[0m\u001b[0;34m.\u001b[0m\u001b[0mcompile\u001b[0m\u001b[0;34m(\u001b[0m\u001b[0mloss\u001b[0m\u001b[0;34m=\u001b[0m\u001b[0;34m'mse'\u001b[0m\u001b[0;34m,\u001b[0m \u001b[0moptimizer\u001b[0m\u001b[0;34m=\u001b[0m\u001b[0mAdam\u001b[0m\u001b[0;34m(\u001b[0m\u001b[0mlr\u001b[0m\u001b[0;34m=\u001b[0m\u001b[0mlearning_rate\u001b[0m\u001b[0;34m)\u001b[0m\u001b[0;34m,\u001b[0m \u001b[0mmetrics\u001b[0m\u001b[0;34m=\u001b[0m\u001b[0;34m[\u001b[0m\u001b[0;34m\"accuracy\"\u001b[0m\u001b[0;34m]\u001b[0m\u001b[0;34m)\u001b[0m\u001b[0;34m\u001b[0m\u001b[0;34m\u001b[0m\u001b[0m\n",
      "\u001b[0;31mNameError\u001b[0m: name 'layer_0' is not defined"
     ]
    }
   ],
   "source": [
    "model = Sequential()\n",
    "model.add(Dense(input_size, input_dim=input_size,weights=[np.array(layer_0),np.zeros(input_size)], activation='relu'))\n",
    "model.add(Dense(neurons, weights=[np.array(layer_1),np.zeros(neurons)], activation='relu'))\n",
    "model.add(Dense(output_size ,weights=[np.array(layer_2),np.zeros(output_size)]))\n",
    "model.compile(loss='mse', optimizer=Adam(lr=learning_rate), metrics=[\"accuracy\"])\n",
    "\n",
    "\n",
    "print(model.layers[0].get_weights())\n",
    "print(model.layers[1].get_weights())\n",
    "print(model.layers[2].get_weights())"
   ]
  },
  {
   "cell_type": "code",
   "execution_count": null,
   "metadata": {},
   "outputs": [],
   "source": [
    "def breed(father, mother, orig):\n",
    "    print(select_weights(father,mother))\n",
    "    \n",
    "breed(get_weights(),get_weights(),get_weights())"
   ]
  },
  {
   "cell_type": "code",
   "execution_count": null,
   "metadata": {},
   "outputs": [],
   "source": [
    "N=5\n",
    "X=20\n",
    "\n",
    "parent1 = np.random.choice(X, N, replace=True)\n",
    "parent2 = np.random.choice(X, N, replace=True)\n",
    "\n",
    "from_which_list = np.random.randint(2, size=N).astype(np.bool)\n",
    "selected = np.choose(from_which_list, [parent1, parent2])\n"
   ]
  },
  {
   "cell_type": "code",
   "execution_count": null,
   "metadata": {},
   "outputs": [],
   "source": []
  }
 ],
 "metadata": {
  "kernelspec": {
   "display_name": "Python 3",
   "language": "python",
   "name": "python3"
  },
  "language_info": {
   "codemirror_mode": {
    "name": "ipython",
    "version": 3
   },
   "file_extension": ".py",
   "mimetype": "text/x-python",
   "name": "python",
   "nbconvert_exporter": "python",
   "pygments_lexer": "ipython3",
   "version": "3.7.3"
  }
 },
 "nbformat": 4,
 "nbformat_minor": 2
}
