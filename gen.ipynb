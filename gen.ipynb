{
 "cells": [
  {
   "cell_type": "markdown",
   "metadata": {},
   "source": [
    "# Genetic algorithm for Web based game\n",
    "\n",
    "<i><strong style=\"color:red;\">N.B. When running this program a local server will start on <a href=\"http://127.0.0.1:5000\" target=\"_blank\">127.0.0.1:5000</a> - Open in another tab to see</strong></i>"
   ]
  },
  {
   "cell_type": "code",
   "execution_count": 1,
   "metadata": {},
   "outputs": [
    {
     "name": "stderr",
     "output_type": "stream",
     "text": [
      "Using TensorFlow backend.\n"
     ]
    }
   ],
   "source": [
    "import numpy as np\n",
    "import json\n",
    "import tensorflow as tf\n",
    "from numpy.random import randint\n",
    "import random\n",
    "from random import random as rnd\n",
    "from flask import Flask, render_template, request, jsonify\n",
    "from flask_cors import CORS\n",
    "from keras.layers import Dense, Concatenate,concatenate,LeakyReLU, Softmax\n",
    "from keras.models import Sequential, Model\n",
    "from keras.optimizers import Adam\n",
    "import math\n",
    "import logging\n",
    "from sklearn.preprocessing import normalize"
   ]
  },
  {
   "cell_type": "markdown",
   "metadata": {},
   "source": [
    "## Init app"
   ]
  },
  {
   "cell_type": "code",
   "execution_count": 2,
   "metadata": {},
   "outputs": [],
   "source": [
    "# Define App\n",
    "app = Flask(__name__)\n",
    "CORS(app)\n",
    "\n",
    "# Hide logging\n",
    "log = logging.getLogger('werkzeug')\n",
    "log.setLevel(logging.ERROR) # Comment out to see server requests"
   ]
  },
  {
   "cell_type": "markdown",
   "metadata": {},
   "source": [
    "## Variable definitions"
   ]
  },
  {
   "cell_type": "code",
   "execution_count": 3,
   "metadata": {},
   "outputs": [],
   "source": [
    "ready = False\n",
    "input_size = 4\n",
    "output_size = 2\n",
    "population = []\n",
    "max_fitness = 0\n",
    "mating_pool = []\n",
    "neurons = 8\n",
    "generation = 0\n",
    "processed_count = 0\n",
    "leaky = True\n",
    "\n",
    "# Error fix\n",
    "graph = tf.get_default_graph()"
   ]
  },
  {
   "cell_type": "markdown",
   "metadata": {},
   "source": [
    "## Hyperparameters"
   ]
  },
  {
   "cell_type": "code",
   "execution_count": 4,
   "metadata": {},
   "outputs": [],
   "source": [
    "number_of_individuals = 30\n",
    "mutation_rate = 0.01\n",
    "breeding_rate = 0\n",
    "learning_rate = 0.095"
   ]
  },
  {
   "cell_type": "markdown",
   "metadata": {},
   "source": [
    "## Class definitions"
   ]
  },
  {
   "cell_type": "code",
   "execution_count": 5,
   "metadata": {},
   "outputs": [],
   "source": [
    "class Bird:\n",
    "    def __init__(self):\n",
    "        self.brain = self.create_brain()\n",
    "        self.score = 0\n",
    "        self.fitness = 0\n",
    "        self.prediction = None\n",
    "        self.alive = 1\n",
    "\n",
    "    def create_brain(self, weights = None):\n",
    "        model = Sequential()    \n",
    "        if leaky:\n",
    "            model.add(Dense(neurons, input_dim=input_size))\n",
    "            model.add(LeakyReLU())\n",
    "            model.add(Dense(neurons))\n",
    "            model.add(LeakyReLU())\n",
    "            model.add(Dense(neurons))\n",
    "            model.add(LeakyReLU())\n",
    "        else:\n",
    "            model.add(Dense(input_size, input_dim=input_size, activation='relu'))\n",
    "            model.add(Dense(neurons, activation='relu'))\n",
    "            model.add(Dense(neurons, activation='relu'))\n",
    "        model.add(Dense(output_size))\n",
    "        #model.add(Softmax())\n",
    "        model.compile(loss='mse', optimizer=Adam(lr=learning_rate), metrics=[\"accuracy\"])\n",
    "        model._make_predict_function()\n",
    "        return model\n",
    "    \n",
    "    def update_brain(self, layer_0,layer_1,layer_2,layer_3):\n",
    "        global leaky\n",
    "        #mutation_0 = mutate(layer_0)\n",
    "        mutation_1 = mutate(layer_1)\n",
    "        mutation_2 = mutate(layer_2)\n",
    "        #mutation_3 = mutate(layer_3)\n",
    "        if leaky:\n",
    "            #self.brain.layers[0].set_weights([np.array(mutation_0),np.zeros(4)])\n",
    "            self.brain.layers[2].set_weights([np.array(mutation_1),np.zeros(neurons)])\n",
    "            self.brain.layers[4].set_weights([np.array(mutation_2),np.zeros(neurons)])\n",
    "            #self.brain.layers[6].set_weights([np.array(mutation_2),np.zeros(2)])\n",
    "        else:\n",
    "            #self.brain.layers[0].set_weights([np.array(mutation_0),np.zeros(4)])\n",
    "            self.brain.layers[1].set_weights([np.array(mutation_1),np.zeros(neurons)])\n",
    "            self.brain.layers[2].set_weights([np.array(mutation_2),np.zeros(neurons)])\n",
    "            #self.brain.layers[3].set_weights([np.array(mutation_2),np.zeros(2)])\n",
    "    \n",
    "    def predict(self, self_state, pipe_states):\n",
    "        if self.alive == 0:\n",
    "            return self.prediction\n",
    "        return_val = []\n",
    "        inputs = [self_state, pipe_states[0], pipe_states[1], pipe_states[2]]\n",
    "        reshaped = np.array([inputs])\n",
    "        prediction = self.brain.predict(reshaped)\n",
    "        self.prediction = prediction.tolist()\n",
    "        return self.prediction\n",
    "    \n",
    "    def set_status(self, status):\n",
    "        self.alive = status\n",
    "    \n",
    "    def set_score(self, score):\n",
    "        self.score = score"
   ]
  },
  {
   "cell_type": "markdown",
   "metadata": {},
   "source": [
    "## Method definitions"
   ]
  },
  {
   "cell_type": "code",
   "execution_count": 6,
   "metadata": {},
   "outputs": [],
   "source": [
    "def create_first_generation(callback):\n",
    "    global ready, generation\n",
    "    for i in range(number_of_individuals):\n",
    "        bird = Bird()\n",
    "        population.append(bird)\n",
    "    \n",
    "    generation = generation+1\n",
    "    ready = True\n",
    "    callback()"
   ]
  },
  {
   "cell_type": "code",
   "execution_count": 7,
   "metadata": {},
   "outputs": [],
   "source": [
    "def bird_predictions(bird_states, pipe_states):\n",
    "    if not bird_states or not pipe_states:\n",
    "        return\n",
    "    \n",
    "    bird_predictions_array = []\n",
    "    for i in range(len(population)):\n",
    "        population[i].set_score(bird_states[i][2])\n",
    "        population[i].set_status(bird_states[i][0])\n",
    "        temp_predict = population[i].predict(bird_states[i][1], pipe_states)\n",
    "        bird_predictions_array.append(temp_predict)\n",
    "    return bird_predictions_array"
   ]
  },
  {
   "cell_type": "code",
   "execution_count": 8,
   "metadata": {},
   "outputs": [],
   "source": [
    "def division_by_zero(n, d):\n",
    "    return n / d if d else 0"
   ]
  },
  {
   "cell_type": "code",
   "execution_count": 9,
   "metadata": {},
   "outputs": [],
   "source": [
    "def calculate_fitness():\n",
    "    global max_fitness\n",
    "    sum = 0\n",
    "    \n",
    "    for i in range(len(population)):\n",
    "        sum = sum+population[i].score\n",
    "\n",
    "    max_fitness = 0\n",
    "    for i in range(len(population)):\n",
    "        #population[i].fitness = division_by_zero(population[i].score, sum)\n",
    "        population[i].fitness = population[i].score/sum\n",
    "        if population[i].fitness > max_fitness:\n",
    "            max_fitness = population[i].fitness"
   ]
  },
  {
   "cell_type": "code",
   "execution_count": 10,
   "metadata": {},
   "outputs": [],
   "source": [
    "def natural_selection(filter = True): #Mating pool\n",
    "    global max_fitness, mating_pool\n",
    "    mating_pool = []\n",
    "    \n",
    "    for i in range(len(population)):\n",
    "        n = math.floor(population[i].fitness*100)\n",
    "        # Get rid of the worst ones\n",
    "        #if n < 10 and filter == True:\n",
    "        #    continue\n",
    "        for j in range(n):\n",
    "            mating_pool.append(i)\n",
    "    \n",
    "    #if len(mating_pool) == 0 and filter == True:\n",
    "    #    natural_selection(False)\n",
    "    \n",
    "    #print(\"Mating pool: \"+str(mating_pool))\n",
    "    "
   ]
  },
  {
   "cell_type": "code",
   "execution_count": 11,
   "metadata": {},
   "outputs": [],
   "source": [
    "def get_dense_layers(layers):\n",
    "    global leaky\n",
    "    if leaky:\n",
    "        return (layers[0].get_weights()[0], \n",
    "                layers[2].get_weights()[0], \n",
    "                layers[4].get_weights()[0], \n",
    "                layers[6].get_weights()[0])\n",
    "    else:\n",
    "        return (layers[0].get_weights()[0], \n",
    "                layers[1].get_weights()[0], \n",
    "                layers[2].get_weights()[0], \n",
    "                layers[3].get_weights()[0])\n",
    "        "
   ]
  },
  {
   "cell_type": "code",
   "execution_count": 12,
   "metadata": {},
   "outputs": [],
   "source": [
    "def breed(father, mother, orig):\n",
    "    global leaky\n",
    "    (father_0,father_1,father_2,father_3) = get_dense_layers(father.brain.layers)\n",
    "    (mother_0,mother_1,mother_2,mother_3) = get_dense_layers(mother.brain.layers)\n",
    "    (orig_0,orig_1,orig_2,orig_3) = get_dense_layers(orig.brain.layers)\n",
    "    if leaky:\n",
    "        child_0 = []\n",
    "        for i in range(len(father_0)):\n",
    "            if(breeding_rate < random.random()):\n",
    "                temp = []\n",
    "                for j in range(len(father_0[i])):\n",
    "                    temp.append(np.dot(father_0[i][j], mother_0[i][j]))\n",
    "                child_0.append(temp)\n",
    "            else:\n",
    "                child_0.append(orig_0[i])\n",
    "        child_0 = normalize(child_0)\n",
    "    else:\n",
    "        child_0 = normalize(np.dot(father_0, mother_0))\n",
    "    child_1 = []\n",
    "    for i in range(len(father_1)):\n",
    "        if(breeding_rate < random.random()):\n",
    "            temp = []\n",
    "            for j in range(len(father_1[i])):\n",
    "                temp.append(np.dot(father_1[i][j], mother_1[i][j]))\n",
    "            child_1.append(temp)\n",
    "        else:\n",
    "            child_1.append(orig_1[i])\n",
    "    child_1 = normalize(child_1)\n",
    "    child_2 = []\n",
    "    for i in range(len(father_2)):\n",
    "        if(breeding_rate < random.random()):\n",
    "            temp = []\n",
    "            for j in range(len(father_2[i])):\n",
    "                temp.append(np.dot(father_2[i][j], mother_2[i][j]))\n",
    "            child_2.append(temp)\n",
    "        else:\n",
    "            child_2.append(orig_2[i])\n",
    "    child_2 = normalize(child_2)\n",
    "    child_3 = []\n",
    "    for i in range(len(father_3)):\n",
    "        if(breeding_rate < random.random()):\n",
    "            temp = []\n",
    "            for j in range(len(father_3[i])):\n",
    "                temp.append(np.dot(father_3[i][j], mother_3[i][j]))\n",
    "            child_3.append(temp)\n",
    "        else:\n",
    "            child_3.append(orig_3[i])\n",
    "    child_3 = normalize(child_3)\n",
    "    return (child_0,child_1,child_2,child_3)"
   ]
  },
  {
   "cell_type": "code",
   "execution_count": 13,
   "metadata": {},
   "outputs": [],
   "source": [
    "def breed_population():\n",
    "    global mating_pool, ready, generation, processed_count\n",
    "    for i in range(len(population)):\n",
    "        # Get two random indecies from the mating pool \n",
    "        a = mating_pool[math.floor(np.random.choice(len(mating_pool)))]\n",
    "        b = mating_pool[math.floor(np.random.choice(len(mating_pool)))]\n",
    "        (layer_0, layer_1, layer_2, layer_3) = breed(population[a], population[b], population[i])\n",
    "        population[i].update_brain(layer_0, layer_1, layer_2, layer_3)\n",
    "        population[i].alive = 1\n",
    "        processed_count = processed_count+1\n",
    "        \n",
    "    generation = generation+1\n",
    "    server_ready()"
   ]
  },
  {
   "cell_type": "code",
   "execution_count": 14,
   "metadata": {},
   "outputs": [],
   "source": [
    "def mutate(individual_weights):\n",
    "    global mutation_rate\n",
    "    length = len(individual_weights[0])\n",
    "    for swapped in range(length):\n",
    "        if(random.random() < mutation_rate):\n",
    "            swap_with = int(random.random() * length)\n",
    "            weight1 = individual_weights[0][swapped]\n",
    "            weight2 = individual_weights[0][swap_with]\n",
    "            individual_weights[0][swapped] = weight1\n",
    "            individual_weights[0][swap_with] = weight2\n",
    "        if(random.random() < mutation_rate):\n",
    "            random_index = int(random.random() * length)\n",
    "            random_index_2 = int(random.random() * length)\n",
    "            weight1 = individual_weights[0][random_index]\n",
    "            weight2 = individual_weights[0][random_index_2]\n",
    "            if weight1 < 0:\n",
    "                weigth1 = abs(weight1)\n",
    "            else:\n",
    "                weight1 = weight1*-1\n",
    "            \n",
    "            if weight2 < 0:\n",
    "                weigth2 = abs(weight2)\n",
    "            else:\n",
    "                weight2 = weight2*-1\n",
    "                \n",
    "            individual_weights[0][random_index] = weight1\n",
    "            individual_weights[0][random_index_2] = weight2\n",
    "\n",
    "    return individual_weights"
   ]
  },
  {
   "cell_type": "markdown",
   "metadata": {},
   "source": [
    "## Routes for server/client communication"
   ]
  },
  {
   "cell_type": "code",
   "execution_count": 15,
   "metadata": {},
   "outputs": [],
   "source": [
    "# Create route for requesting the individuals NN brain\n",
    "@app.route(\"/predictions\")\n",
    "def get_predictions():\n",
    "    global ready\n",
    "    if not ready:\n",
    "        return \"server busy\"\n",
    "    parsed_bird_states = (json.loads(request.args.get('bird_states')))\n",
    "    parsed_pipe_states = (json.loads(request.args.get('pipe_states')))\n",
    "    if len(parsed_bird_states) == 0 or len(parsed_pipe_states) == 0:\n",
    "        return \"No birds\"\n",
    "    global graph\n",
    "    with graph.as_default():\n",
    "        try:\n",
    "            return jsonify(bird_predictions(parsed_bird_states, parsed_pipe_states))\n",
    "        except:\n",
    "            print(\"Warning\")\n",
    "            return \"Warning\""
   ]
  },
  {
   "cell_type": "code",
   "execution_count": 16,
   "metadata": {},
   "outputs": [],
   "source": [
    "@app.route(\"/is_ready\")\n",
    "def is_ready():\n",
    "    global ready\n",
    "    return str(ready)"
   ]
  },
  {
   "cell_type": "code",
   "execution_count": 17,
   "metadata": {},
   "outputs": [],
   "source": [
    "@app.route(\"/get_next_generation\")\n",
    "def get_next_generation():\n",
    "    server_busy()\n",
    "    calculate_fitness()\n",
    "    natural_selection()\n",
    "    debug_this = False\n",
    "    if debug_this == True:\n",
    "        breed_population()\n",
    "        return \"breed_debug\"\n",
    "    else:\n",
    "        global graph\n",
    "        with graph.as_default():\n",
    "            try:\n",
    "                breed_population()\n",
    "                return \"breeding population\"\n",
    "            except:\n",
    "                print(\"breed_population() exception\")\n",
    "                return \"breed_population() exception\""
   ]
  },
  {
   "cell_type": "code",
   "execution_count": 18,
   "metadata": {},
   "outputs": [],
   "source": [
    "# Create route for requesting the number of individuals\n",
    "@app.route(\"/get_count\")\n",
    "def get_count():\n",
    "    return str(number_of_individuals)"
   ]
  },
  {
   "cell_type": "code",
   "execution_count": 19,
   "metadata": {},
   "outputs": [],
   "source": [
    "@app.route(\"/get_info\")\n",
    "def get_info():\n",
    "    global generation,max_fitness,mating_pool\n",
    "    info = [\n",
    "        generation,\n",
    "        max_fitness,\n",
    "        len(mating_pool)\n",
    "    ]\n",
    "    return jsonify(info)"
   ]
  },
  {
   "cell_type": "code",
   "execution_count": 20,
   "metadata": {},
   "outputs": [],
   "source": [
    "# Create route for index file\n",
    "@app.route(\"/\")\n",
    "def index():\n",
    "    return render_template(\"index.html\")"
   ]
  },
  {
   "cell_type": "markdown",
   "metadata": {},
   "source": [
    "## Run program"
   ]
  },
  {
   "cell_type": "code",
   "execution_count": 21,
   "metadata": {},
   "outputs": [],
   "source": [
    "def server_ready():\n",
    "    global ready, processed_count    \n",
    "    if processed_count == number_of_individuals:\n",
    "        ready = True\n",
    "        processed_count = 0\n",
    "    else:\n",
    "        ready = False\n",
    "    #print(\"server is ready\")"
   ]
  },
  {
   "cell_type": "code",
   "execution_count": 22,
   "metadata": {},
   "outputs": [],
   "source": [
    "def server_busy():\n",
    "    global ready\n",
    "    ready = False\n",
    "    #print(\"server is busy\")"
   ]
  },
  {
   "cell_type": "code",
   "execution_count": 23,
   "metadata": {},
   "outputs": [],
   "source": [
    "def run_app():\n",
    "    app.run(debug=False)"
   ]
  },
  {
   "cell_type": "code",
   "execution_count": null,
   "metadata": {
    "scrolled": true
   },
   "outputs": [
    {
     "name": "stdout",
     "output_type": "stream",
     "text": [
      "WARNING:tensorflow:From /home/jjgaardbo/.local/lib/python3.7/site-packages/tensorflow/python/framework/op_def_library.py:263: colocate_with (from tensorflow.python.framework.ops) is deprecated and will be removed in a future version.\n",
      "Instructions for updating:\n",
      "Colocations handled automatically by placer.\n",
      " * Serving Flask app \"__main__\" (lazy loading)\n",
      " * Environment: production\n",
      "   WARNING: This is a development server. Do not use it in a production deployment.\n",
      "   Use a production WSGI server instead.\n",
      " * Debug mode: off\n"
     ]
    }
   ],
   "source": [
    "# Run program\n",
    "if __name__ == '__main__':\n",
    "    # Start the app\n",
    "    create_first_generation(run_app)"
   ]
  },
  {
   "cell_type": "code",
   "execution_count": null,
   "metadata": {},
   "outputs": [],
   "source": []
  }
 ],
 "metadata": {
  "kernelspec": {
   "display_name": "Python 3",
   "language": "python",
   "name": "python3"
  },
  "language_info": {
   "codemirror_mode": {
    "name": "ipython",
    "version": 3
   },
   "file_extension": ".py",
   "mimetype": "text/x-python",
   "name": "python",
   "nbconvert_exporter": "python",
   "pygments_lexer": "ipython3",
   "version": "3.7.3"
  }
 },
 "nbformat": 4,
 "nbformat_minor": 2
}
